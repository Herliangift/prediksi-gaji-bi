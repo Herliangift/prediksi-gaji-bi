{
 "cells": [
  {
   "cell_type": "markdown",
   "metadata": {
    "id": "IFLq7gfrcodR"
   },
   "source": [
    "# 📊 **Regresi Linear Sederhana**\n",
    "## *Menggunakan Python*\n",
    "\n",
    "---\n",
    "\n",
    "## 🎯 Contoh Kasus: \n",
    "**Prediksi Gaji berdasarkan Tahun Bekerja**\n",
    "\n",
    "Dataset:  \n",
    "🔗 [Unduh di Google Drive](https://drive.google.com/file/d/1aycA2iEh-HNRQeFQii8XpjYdT8f0gyzK/view?usp=sharing)\n",
    "\n",
    "---\n",
    "\n",
    "## 🧭 Tahapan Berdasarkan CRISP-DM\n",
    "\n",
    "CRISP-DM adalah metodologi standar dalam proses data mining, terdiri dari 6 fase utama:\n",
    "\n",
    "1. **Business Understanding**\n",
    "2. **Data Understanding**\n",
    "3. **Data Preparation**\n",
    "4. **Modeling**\n",
    "5. **Evaluation**\n",
    "6. **Deployment**\n"
   ]
  },
  {
   "cell_type": "markdown",
   "metadata": {},
   "source": [
    "## 🧠 1. Business Understanding\n",
    "\n",
    "**Tujuan:**  \n",
    "Memahami permasalahan bisnis dan tujuan analisis.\n",
    "\n",
    "**Kasus:**  \n",
    "Perusahaan ingin mengetahui **hubungan antara tahun pengalaman kerja dengan gaji**, dan menggunakan model regresi linear untuk **memprediksi gaji** berdasarkan tahun pengalaman kerja seseorang.\n"
   ]
  },
  {
   "cell_type": "markdown",
   "metadata": {},
   "source": [
    "## 🔍 2. Data Understanding\n",
    "\n",
    "Langkah-langkah:\n",
    "\n",
    "### 📥 Import Library\n",
    "### 📂 Load Dataset\n",
    "### ℹ️ Check the General Information"
   ]
  },
  {
   "cell_type": "markdown",
   "metadata": {
    "id": "g9ptGeFl7YgD"
   },
   "source": [
    "# Import Library"
   ]
  },
  {
   "cell_type": "code",
   "execution_count": 2,
   "metadata": {
    "id": "iY3DLG36cywt"
   },
   "outputs": [],
   "source": [
    "# Impor library yang dibutuhkan\n",
    "import numpy as np\n",
    "import matplotlib.pyplot as plt\n",
    "import pandas as pd"
   ]
  },
  {
   "cell_type": "markdown",
   "metadata": {
    "id": "FhpKDxU67nbX"
   },
   "source": [
    "# Load Dataset"
   ]
  },
  {
   "cell_type": "code",
   "execution_count": 3,
   "metadata": {
    "id": "9uTSY4Tacz4k"
   },
   "outputs": [
    {
     "name": "stdout",
     "output_type": "stream",
     "text": [
      "   Tahun_bekerja   Gaji\n",
      "0            1.1  39343\n",
      "1            1.3  46205\n",
      "2            1.5  37731\n",
      "3            2.0  43525\n",
      "4            2.2  39891\n"
     ]
    }
   ],
   "source": [
    "# Impor dataset dari Google Drive\n",
    "url = 'https://drive.google.com/file/d/1aSX6KOE2ziTOiapQgbWuGiqzGK3Ow594/view?usp=sharing'\n",
    "file_id=url.split('/')[-2]\n",
    "dwn_url='https://drive.google.com/uc?id=' + file_id\n",
    "\n",
    "dataset = pd.read_csv(dwn_url)\n",
    "print(dataset.head())"
   ]
  },
  {
   "cell_type": "markdown",
   "metadata": {
    "id": "8HEVSrTL74w7"
   },
   "source": [
    "# Check the General Information\n",
    "\n",
    "Melihat informasi Umum Ini digunakan untuk mengenali data kita."
   ]
  },
  {
   "cell_type": "code",
   "execution_count": 6,
   "metadata": {
    "id": "Q2YnElELdPcq"
   },
   "outputs": [
    {
     "data": {
      "text/plain": [
       "(30, 2)"
      ]
     },
     "execution_count": 6,
     "metadata": {},
     "output_type": "execute_result"
    }
   ],
   "source": [
    "#untuk melihat ukuran data\n",
    "dataset.shape"
   ]
  },
  {
   "cell_type": "code",
   "execution_count": 5,
   "metadata": {
    "id": "cHYHRIPidTPk"
   },
   "outputs": [
    {
     "name": "stdout",
     "output_type": "stream",
     "text": [
      "<class 'pandas.core.frame.DataFrame'>\n",
      "RangeIndex: 30 entries, 0 to 29\n",
      "Data columns (total 2 columns):\n",
      " #   Column         Non-Null Count  Dtype  \n",
      "---  ------         --------------  -----  \n",
      " 0   Tahun_bekerja  30 non-null     float64\n",
      " 1   Gaji           30 non-null     int64  \n",
      "dtypes: float64(1), int64(1)\n",
      "memory usage: 612.0 bytes\n"
     ]
    }
   ],
   "source": [
    "#Melihat informasi data kita mulai dari jumlah data, tipe data, memory yang digunakan dll.\n",
    "dataset.info()"
   ]
  },
  {
   "cell_type": "code",
   "execution_count": 7,
   "metadata": {
    "id": "XfauBu-wdXBA"
   },
   "outputs": [
    {
     "data": {
      "text/html": [
       "<div>\n",
       "<style scoped>\n",
       "    .dataframe tbody tr th:only-of-type {\n",
       "        vertical-align: middle;\n",
       "    }\n",
       "\n",
       "    .dataframe tbody tr th {\n",
       "        vertical-align: top;\n",
       "    }\n",
       "\n",
       "    .dataframe thead th {\n",
       "        text-align: right;\n",
       "    }\n",
       "</style>\n",
       "<table border=\"1\" class=\"dataframe\">\n",
       "  <thead>\n",
       "    <tr style=\"text-align: right;\">\n",
       "      <th></th>\n",
       "      <th>Tahun_bekerja</th>\n",
       "      <th>Gaji</th>\n",
       "    </tr>\n",
       "  </thead>\n",
       "  <tbody>\n",
       "    <tr>\n",
       "      <th>count</th>\n",
       "      <td>30.000000</td>\n",
       "      <td>30.000000</td>\n",
       "    </tr>\n",
       "    <tr>\n",
       "      <th>mean</th>\n",
       "      <td>5.313333</td>\n",
       "      <td>76003.000000</td>\n",
       "    </tr>\n",
       "    <tr>\n",
       "      <th>std</th>\n",
       "      <td>2.837888</td>\n",
       "      <td>27414.429785</td>\n",
       "    </tr>\n",
       "    <tr>\n",
       "      <th>min</th>\n",
       "      <td>1.100000</td>\n",
       "      <td>37731.000000</td>\n",
       "    </tr>\n",
       "    <tr>\n",
       "      <th>25%</th>\n",
       "      <td>3.200000</td>\n",
       "      <td>56720.750000</td>\n",
       "    </tr>\n",
       "    <tr>\n",
       "      <th>50%</th>\n",
       "      <td>4.700000</td>\n",
       "      <td>65237.000000</td>\n",
       "    </tr>\n",
       "    <tr>\n",
       "      <th>75%</th>\n",
       "      <td>7.700000</td>\n",
       "      <td>100544.750000</td>\n",
       "    </tr>\n",
       "    <tr>\n",
       "      <th>max</th>\n",
       "      <td>10.500000</td>\n",
       "      <td>122391.000000</td>\n",
       "    </tr>\n",
       "  </tbody>\n",
       "</table>\n",
       "</div>"
      ],
      "text/plain": [
       "       Tahun_bekerja           Gaji\n",
       "count      30.000000      30.000000\n",
       "mean        5.313333   76003.000000\n",
       "std         2.837888   27414.429785\n",
       "min         1.100000   37731.000000\n",
       "25%         3.200000   56720.750000\n",
       "50%         4.700000   65237.000000\n",
       "75%         7.700000  100544.750000\n",
       "max        10.500000  122391.000000"
      ]
     },
     "execution_count": 7,
     "metadata": {},
     "output_type": "execute_result"
    }
   ],
   "source": [
    "#Melihat statistical description dari data mulai dari mean, kuartil, standard deviation dll.\n",
    "dataset.describe()"
   ]
  },
  {
   "cell_type": "markdown",
   "metadata": {},
   "source": [
    "## 🧹 3. Data Preparation\n",
    "\n",
    "### ❓ Handling Missing Values\n",
    "\n",
    "```python\n",
    "data.isnull().sum()\n",
    "```\n",
    "\n",
    "Jika ada nilai yang hilang, bisa diisi dengan:\n",
    "\n",
    "```python\n",
    "data.fillna(method='ffill', inplace=True)\n",
    "```"
   ]
  },
  {
   "cell_type": "code",
   "execution_count": 8,
   "metadata": {
    "id": "uTO15Y4hdZzm"
   },
   "outputs": [
    {
     "data": {
      "text/plain": [
       "Tahun_bekerja    0\n",
       "Gaji             0\n",
       "dtype: int64"
      ]
     },
     "execution_count": 8,
     "metadata": {},
     "output_type": "execute_result"
    }
   ],
   "source": [
    "#Mencari dan menangani missing values.\n",
    "#Ternyata data kita tidak ada missing values.\n",
    "dataset.isnull().sum()"
   ]
  },
  {
   "cell_type": "markdown",
   "metadata": {
    "id": "u89VQCIS8wud"
   },
   "source": [
    "## 📊 Exploratory Data Analysis (EDA)\n",
    "\n",
    "### 📈 Visualisasi Hubungan\n",
    "\n",
    "### 📉 Korelasi\n",
    "\n",
    "```python\n",
    "print(data.corr())\n",
    "```"
   ]
  },
  {
   "cell_type": "code",
   "execution_count": 10,
   "metadata": {
    "id": "zon0x69mdc04"
   },
   "outputs": [
    {
     "data": {
      "image/png": "[encoded data removed]",
      "text/plain": [
       "<Figure size 1200x400 with 2 Axes>"
      ]
     },
     "metadata": {},
     "output_type": "display_data"
    }
   ],
   "source": [
    "#Melakukan Exploratory Data Analysis (EDA) \n",
    "#Univariate analysis Tahun_bekerja.\n",
    "#Melihat distribusi dari Tahun_bekerja.\n",
    "f = plt.figure(figsize=(12,4))\n",
    "f.add_subplot(1,2,1)\n",
    "dataset['Tahun_bekerja'].plot(kind='kde')\n",
    "f.add_subplot(1,2,2)\n",
    "plt.boxplot(dataset['Tahun_bekerja'])\n",
    "plt.show()"
   ]
  },
  {
   "cell_type": "markdown",
   "metadata": {
    "id": "DgflFwQEdgtj"
   },
   "source": [
    "\n",
    "\n",
    "\n",
    "*  Dapat dilihat bahwa mean dan median dari Tahun_bekerja terpusat di sekitar nilai 2.5-5.\n",
    "*  tidak terdapat outlier/pencilan data yang bisa dilihat di boxplot.\n",
    "\n"
   ]
  },
  {
   "cell_type": "code",
   "execution_count": 14,
   "metadata": {
    "id": "I91hwwzydrtg"
   },
   "outputs": [
    {
     "data": {
      "image/png": "[encoded data removed]",
      "text/plain": [
       "<Figure size 1200x400 with 2 Axes>"
      ]
     },
     "metadata": {},
     "output_type": "display_data"
    }
   ],
   "source": [
    "#Melakukan Exploratory Data Analysis (EDA) untuk lebih mengenal data kita dan menemukan insights dari data.\n",
    "#Univariate analysis Gaji.\n",
    "#Melihat distribusi dari Gaji.\n",
    "f = plt.figure(figsize=(12,4))\n",
    "f.add_subplot(1,2,1)\n",
    "dataset['Gaji'].plot(kind='kde')\n",
    "f.add_subplot(1,2,2)\n",
    "plt.boxplot(dataset['Gaji'])\n",
    "plt.show()"
   ]
  },
  {
   "cell_type": "markdown",
   "metadata": {
    "id": "aUTyMVP_dvvU"
   },
   "source": [
    "\n",
    "\n",
    "*   Dapat dilihat bahwa mean dan median dari Tahun_bekerja terpusat di sekitar nilai 50000.\n",
    "\n",
    "*   tidak terdapat outlier/pencilan data yang bisa dilihat di boxplot.\n",
    "\n"
   ]
  },
  {
   "cell_type": "code",
   "execution_count": 17,
   "metadata": {
    "id": "DoJsvEL4Acou"
   },
   "outputs": [
    {
     "data": {
      "image/png": "[encoded data removed]",
      "text/plain": [
       "<Figure size 640x480 with 1 Axes>"
      ]
     },
     "metadata": {},
     "output_type": "display_data"
    }
   ],
   "source": [
    "#Bivariate analysis Tahun_bekerja dan Gaji.\n",
    "#Menggunakan scatter plot.\n",
    "plt.scatter(dataset['Tahun_bekerja'], dataset['Gaji'])\n",
    "plt.xlabel('Tahun_bekerja')\n",
    "plt.ylabel('Gaji')\n",
    "plt.title('Scatter Plot Tahun_bekerja vs Gaji')\n",
    "plt.show()"
   ]
  },
  {
   "cell_type": "code",
   "execution_count": null,
   "metadata": {
    "id": "YEWtMFHcBHs0"
   },
   "outputs": [],
   "source": [
    "#Mengetahui nilai korelasi dari Tahun_bekerja dan Gaji.\n",
    "dataset.corr()"
   ]
  },
  {
   "cell_type": "code",
   "execution_count": 18,
   "metadata": {},
   "outputs": [
    {
     "data": {
      "text/plain": [
       "<Axes: >"
      ]
     },
     "execution_count": 18,
     "metadata": {},
     "output_type": "execute_result"
    },
    {
     "data": {
      "image/png": "[encoded data removed]",
      "text/plain": [
       "<Figure size 1000x1000 with 1 Axes>"
      ]
     },
     "metadata": {},
     "output_type": "display_data"
    }
   ],
   "source": [
    "#corelasi penuh warna merah dan putih tidak\n",
    "import seaborn as sns\n",
    "plt.figure(figsize=(10,10))\n",
    "sns.heatmap(dataset.corr(), cmap='bwr', cbar=False, annot=True, square=True)"
   ]
  },
  {
   "cell_type": "markdown",
   "metadata": {
    "id": "cx06jjvJ91on"
   },
   "source": [
    "## 🧪 4. Modeling\n",
    "\n",
    "### 🔀 Splitting Data\n",
    "\n",
    "```python\n",
    "X = data[['YearsExperience']]\n",
    "y = data['Salary']\n",
    "\n",
    "X_train, X_test, y_train, y_test = train_test_split(X, y, test_size=0.2, random_state=42)\n",
    "```\n",
    "\n",
    "### 🔧 Training Model\n",
    "\n",
    "```python\n",
    "model = LinearRegression()\n",
    "model.fit(X_train, y_train)\n",
    "```"
   ]
  },
  {
   "cell_type": "code",
   "execution_count": 19,
   "metadata": {
    "id": "a0-WUycld50a"
   },
   "outputs": [
    {
     "name": "stdout",
     "output_type": "stream",
     "text": [
      "[[ 1.1]\n",
      " [ 1.3]\n",
      " [ 1.5]\n",
      " [ 2. ]\n",
      " [ 2.2]\n",
      " [ 2.9]\n",
      " [ 3. ]\n",
      " [ 3.2]\n",
      " [ 3.2]\n",
      " [ 3.7]\n",
      " [ 3.9]\n",
      " [ 4. ]\n",
      " [ 4. ]\n",
      " [ 4.1]\n",
      " [ 4.5]\n",
      " [ 4.9]\n",
      " [ 5.1]\n",
      " [ 5.3]\n",
      " [ 5.9]\n",
      " [ 6. ]\n",
      " [ 6.8]\n",
      " [ 7.1]\n",
      " [ 7.9]\n",
      " [ 8.2]\n",
      " [ 8.7]\n",
      " [ 9. ]\n",
      " [ 9.5]\n",
      " [ 9.6]\n",
      " [10.3]\n",
      " [10.5]]\n"
     ]
    }
   ],
   "source": [
    "#ambil konten data saja, buang header nya\n",
    "#X sebagai variabel indepedent/variable bebas/variabel independent/ predictor, yakni Tahun bekerja\n",
    "X = dataset.iloc[:, 0:1].values\n",
    "print(X)"
   ]
  },
  {
   "cell_type": "code",
   "execution_count": 20,
   "metadata": {
    "id": "Oq-bfnyHeDg_"
   },
   "outputs": [
    {
     "name": "stdout",
     "output_type": "stream",
     "text": [
      "[ 39343  46205  37731  43525  39891  56642  60150  54445  64445  57189\n",
      "  63218  55794  56957  57081  61111  67938  66029  83088  81363  93940\n",
      "  91738  98273 101302 113812 109431 105582 116969 112635 122391 121872]\n"
     ]
    }
   ],
   "source": [
    "#ambil konten data saja, buang header nya\n",
    "#Y sebagai variabel dependent/variable terikat/variabel tak bebas/ response, yakni Gaji\n",
    "Y = dataset.iloc[:, 1].values\n",
    "print(Y)"
   ]
  },
  {
   "cell_type": "code",
   "execution_count": 21,
   "metadata": {
    "id": "EFlu-Kc_eIOc"
   },
   "outputs": [
    {
     "name": "stdout",
     "output_type": "stream",
     "text": [
      "(21, 1)\n",
      "[[ 7.9]\n",
      " [ 2.9]\n",
      " [ 5.1]\n",
      " [ 3.2]\n",
      " [ 4.5]\n",
      " [ 8.2]\n",
      " [ 6.8]\n",
      " [ 1.3]\n",
      " [10.5]\n",
      " [ 3. ]\n",
      " [ 2.2]\n",
      " [ 5.9]\n",
      " [ 6. ]\n",
      " [ 3.7]\n",
      " [ 3.2]\n",
      " [ 9. ]\n",
      " [ 2. ]\n",
      " [ 1.1]\n",
      " [ 7.1]\n",
      " [ 4.9]\n",
      " [ 4. ]]\n"
     ]
    }
   ],
   "source": [
    "# Membagi data menjadi Training Set dan Test Set\n",
    "# import sckit learn  untuk Machine Learning\n",
    "from sklearn.model_selection import train_test_split\n",
    "X_train, X_test, Y_train, Y_test = train_test_split(X, Y, test_size = 0.3, random_state = 0)\n",
    "# random_state = 0 adalah cara untuk memastikan bahwa proses acak dalam program (seperti membagi data menjadi dua bagian) selalu memberikan hasil yang sama setiap kali kita menjalankan program yang sama. Ini seperti memberikan \"nomor identifikasi\" pada proses acak, sehingga hasilnya konsisten dan tidak berubah meskipun dijalankan berkali-kali.\n",
    "print(X_train.shape)\n",
    "print(X_train)"
   ]
  },
  {
   "cell_type": "code",
   "execution_count": 22,
   "metadata": {
    "id": "-6IlxI0qeQBM"
   },
   "outputs": [
    {
     "data": {
      "text/html": [
       "<style>#sk-container-id-1 {color: black;background-color: white;}#sk-container-id-1 pre{padding: 0;}#sk-container-id-1 div.sk-toggleable {background-color: white;}#sk-container-id-1 label.sk-toggleable__label {cursor: pointer;display: block;width: 100%;margin-bottom: 0;padding: 0.3em;box-sizing: border-box;text-align: center;}#sk-container-id-1 label.sk-toggleable__label-arrow:before {content: \"▸\";float: left;margin-right: 0.25em;color: #696969;}#sk-container-id-1 label.sk-toggleable__label-arrow:hover:before {color: black;}#sk-container-id-1 div.sk-estimator:hover label.sk-toggleable__label-arrow:before {color: black;}#sk-container-id-1 div.sk-toggleable__content {max-height: 0;max-width: 0;overflow: hidden;text-align: left;background-color: #f0f8ff;}#sk-container-id-1 div.sk-toggleable__content pre {margin: 0.2em;color: black;border-radius: 0.25em;background-color: #f0f8ff;}#sk-container-id-1 input.sk-toggleable__control:checked~div.sk-toggleable__content {max-height: 200px;max-width: 100%;overflow: auto;}#sk-container-id-1 input.sk-toggleable__control:checked~label.sk-toggleable__label-arrow:before {content: \"▾\";}#sk-container-id-1 div.sk-estimator input.sk-toggleable__control:checked~label.sk-toggleable__label {background-color: #d4ebff;}#sk-container-id-1 div.sk-label input.sk-toggleable__control:checked~label.sk-toggleable__label {background-color: #d4ebff;}#sk-container-id-1 input.sk-hidden--visually {border: 0;clip: rect(1px 1px 1px 1px);clip: rect(1px, 1px, 1px, 1px);height: 1px;margin: -1px;overflow: hidden;padding: 0;position: absolute;width: 1px;}#sk-container-id-1 div.sk-estimator {font-family: monospace;background-color: #f0f8ff;border: 1px dotted black;border-radius: 0.25em;box-sizing: border-box;margin-bottom: 0.5em;}#sk-container-id-1 div.sk-estimator:hover {background-color: #d4ebff;}#sk-container-id-1 div.sk-parallel-item::after {content: \"\";width: 100%;border-bottom: 1px solid gray;flex-grow: 1;}#sk-container-id-1 div.sk-label:hover label.sk-toggleable__label {background-color: #d4ebff;}#sk-container-id-1 div.sk-serial::before {content: \"\";position: absolute;border-left: 1px solid gray;box-sizing: border-box;top: 0;bottom: 0;left: 50%;z-index: 0;}#sk-container-id-1 div.sk-serial {display: flex;flex-direction: column;align-items: center;background-color: white;padding-right: 0.2em;padding-left: 0.2em;position: relative;}#sk-container-id-1 div.sk-item {position: relative;z-index: 1;}#sk-container-id-1 div.sk-parallel {display: flex;align-items: stretch;justify-content: center;background-color: white;position: relative;}#sk-container-id-1 div.sk-item::before, #sk-container-id-1 div.sk-parallel-item::before {content: \"\";position: absolute;border-left: 1px solid gray;box-sizing: border-box;top: 0;bottom: 0;left: 50%;z-index: -1;}#sk-container-id-1 div.sk-parallel-item {display: flex;flex-direction: column;z-index: 1;position: relative;background-color: white;}#sk-container-id-1 div.sk-parallel-item:first-child::after {align-self: flex-end;width: 50%;}#sk-container-id-1 div.sk-parallel-item:last-child::after {align-self: flex-start;width: 50%;}#sk-container-id-1 div.sk-parallel-item:only-child::after {width: 0;}#sk-container-id-1 div.sk-dashed-wrapped {border: 1px dashed gray;margin: 0 0.4em 0.5em 0.4em;box-sizing: border-box;padding-bottom: 0.4em;background-color: white;}#sk-container-id-1 div.sk-label label {font-family: monospace;font-weight: bold;display: inline-block;line-height: 1.2em;}#sk-container-id-1 div.sk-label-container {text-align: center;}#sk-container-id-1 div.sk-container {/* jupyter's `normalize.less` sets `[hidden] { display: none; }` but bootstrap.min.css set `[hidden] { display: none !important; }` so we also need the `!important` here to be able to override the default hidden behavior on the sphinx rendered scikit-learn.org. See: https://github.com/scikit-learn/scikit-learn/issues/21755 */display: inline-block !important;position: relative;}#sk-container-id-1 div.sk-text-repr-fallback {display: none;}</style><div id=\"sk-container-id-1\" class=\"sk-top-container\"><div class=\"sk-text-repr-fallback\"><pre>LinearRegression()</pre><b>In a Jupyter environment, please rerun this cell to show the HTML representation or trust the notebook. <br />On GitHub, the HTML representation is unable to render, please try loading this page with nbviewer.org.</b></div><div class=\"sk-container\" hidden><div class=\"sk-item\"><div class=\"sk-estimator sk-toggleable\"><input class=\"sk-toggleable__control sk-hidden--visually\" id=\"sk-estimator-id-1\" type=\"checkbox\" checked><label for=\"sk-estimator-id-1\" class=\"sk-toggleable__label sk-toggleable__label-arrow\">LinearRegression</label><div class=\"sk-toggleable__content\"><pre>LinearRegression()</pre></div></div></div></div></div>"
      ],
      "text/plain": [
       "LinearRegression()"
      ]
     },
     "execution_count": 22,
     "metadata": {},
     "output_type": "execute_result"
    }
   ],
   "source": [
    "# panggil modul LinearRegression untuk menjalankan regresi liear\n",
    "from sklearn.linear_model import LinearRegression\n",
    "# membuat objek regresi linear\n",
    "lin_reg = LinearRegression()\n",
    "# membangun model (training model dari data set yang sudah kita split)\n",
    "lin_reg.fit(X_train, Y_train)"
   ]
  },
  {
   "cell_type": "code",
   "execution_count": 23,
   "metadata": {
    "id": "kOmQkwjdeUZ6"
   },
   "outputs": [
    {
     "name": "stdout",
     "output_type": "stream",
     "text": [
      "[9360.26128619]\n",
      "26777.39134119764\n"
     ]
    }
   ],
   "source": [
    "# cari tau nilai slope/koefisien (θi ) dan intercept (θ0).\n",
    "# ŷ=θ0+θiΧi+Ɛi\n",
    "\n",
    "# coef_ memberikan pengaruh setiap fitur terhadap prediksi.\n",
    "# intercept_ memberikan nilai dasar prediksi ketika semua fitur bernilai nol.\n",
    "\n",
    "print(lin_reg.coef_)\n",
    "print(lin_reg.intercept_)"
   ]
  },
  {
   "cell_type": "markdown",
   "metadata": {},
   "source": [
    "### 1. lin_reg.coef_ : 9360.26\n",
    "Koefisien (slope) dari model adalah 9360.26\n",
    "\n",
    "Ini berarti bahwa untuk setiap tambahan satu unit pada variabel input (misalnya, satu tahun bekerja), nilai prediksi gaji akan meningkat sebesar 9360.26.\n",
    "\n",
    "Jadi, setiap tambahan satu tahun bekerja akan menyebabkan gaji meningkat sekitar 9360.26.\n",
    "\n",
    "### 2. lin_reg.intercept_ : 26777.39\n",
    "Intercept (konstanta) dari model adalah 26777.39\n",
    "\n",
    "Ini adalah nilai prediksi untuk gaji ketika tahun bekerja sama dengan 0 (misalnya, jika seseorang baru mulai bekerja, atau tidak memiliki tahun bekerja).\n",
    "\n",
    "Artinya, gaji dasar (intercept) untuk seseorang yang baru mulai bekerja adalah sekitar 26,777.39.\n",
    "\n",
    "Interpretasi secara keseluruhan:\n",
    "Jika kita ingin memprediksi gaji berdasarkan tahun bekerja menggunakan persamaan regresi linear:\n",
    "\n",
    "```python\n",
    "Gaji = (9360.26 * Tahun Bekerja) + 26777.39\n",
    "```"
   ]
  },
  {
   "cell_type": "markdown",
   "metadata": {
    "id": "fVHi8h3l-gsj"
   },
   "source": [
    "## 🧾 5. Evaluation\n",
    "\n",
    "### 📐 Evaluasi Model\n",
    "\n",
    "### 📉 Visualisasi Hasil Prediksi"
   ]
  },
  {
   "cell_type": "code",
   "execution_count": null,
   "metadata": {
    "id": "XGKENNgkeXKa"
   },
   "outputs": [],
   "source": [
    "# memprediksi model dengan test set(melakukan proses testing)\n",
    "Y_prediksi = lin_reg.predict(X_test)"
   ]
  },
  {
   "cell_type": "code",
   "execution_count": null,
   "metadata": {
    "id": "01sBDzCpBqXu"
   },
   "outputs": [],
   "source": [
    "#Lakukan evaluasi performa\n",
    "#tampilkan hasil dari data aktual dan data prediksi\n",
    "df = pd.DataFrame({'aktual': Y_test, 'Prediksi': Y_prediksi})\n",
    "print(df)"
   ]
  },
  {
   "cell_type": "code",
   "execution_count": null,
   "metadata": {
    "id": "MaGiLdnrCwN6"
   },
   "outputs": [],
   "source": [
    "#visualisasi galat/ selisih data aktual dengan data prediksi\n",
    "df.plot(kind='bar',figsize=(12,4))\n",
    "plt.grid(which='major', linestyle='-', linewidth='0.5', color='green')\n",
    "plt.grid(which='minor', linestyle=':', linewidth='0.5', color='black')\n",
    "plt.show()"
   ]
  },
  {
   "cell_type": "code",
   "execution_count": null,
   "metadata": {
    "id": "OelPIJaFeaM_"
   },
   "outputs": [],
   "source": [
    "#melakukan evaluasi/ pengukuran performa algoritma\n",
    "#menghitung nilai MAE, MSE dan RMSE\n",
    "from sklearn import metrics\n",
    "print('Mean Absolute Error:', metrics.mean_absolute_error(Y_test, Y_prediksi))\n",
    "print('Mean Squared Error:', metrics.mean_squared_error(Y_test, Y_prediksi))\n",
    "print('Root Mean Squared Error:', np.sqrt(metrics.mean_squared_error(Y_test, Y_prediksi)))"
   ]
  },
  {
   "cell_type": "markdown",
   "metadata": {},
   "source": [
    "## Mean Absolute Error (MAE):\n",
    "\n",
    "Nilai MAE adalah 3737.42.\n",
    "\n",
    "MAE mengukur rata-rata dari selisih absolut antara nilai yang diprediksi dan nilai aktual.\n",
    "\n",
    "Semakin kecil nilai MAE, semakin baik model dalam memprediksi data. Dalam hal ini, nilai MAE yang cukup besar menunjukkan bahwa prediksi model memiliki kesalahan rata-rata sekitar 3737.42 unit dari nilai aktual.\n",
    "\n",
    "## Mean Squared Error (MSE):\n",
    "\n",
    "Nilai MSE adalah 23370078.80.\n",
    "\n",
    "MSE mengukur rata-rata dari kuadrat selisih antara nilai yang diprediksi dan nilai aktual. Metrik ini lebih sensitif terhadap outlier karena perbedaan yang lebih besar akan dikuadratkan, sehingga lebih meningkatkan nilai MSE.\n",
    "\n",
    "Nilai MSE yang tinggi menunjukkan bahwa model memiliki kesalahan besar dalam beberapa prediksi, yang bisa disebabkan oleh adanya outlier atau model yang kurang cocok dengan data.\n",
    "\n",
    "## Root Mean Squared Error (RMSE):\n",
    "\n",
    "Nilai RMSE adalah 4834.26.\n",
    "\n",
    "RMSE adalah akar kuadrat dari MSE dan memberikan gambaran yang lebih intuitif tentang seberapa besar kesalahan rata-rata dalam satuan yang sama dengan data asli.\n",
    "\n",
    "RMSE yang tinggi menunjukkan bahwa model memiliki kesalahan yang signifikan. Seperti MSE, RMSE juga sangat dipengaruhi oleh outlier dan prediksi yang sangat jauh dari nilai aktual.\n",
    "\n",
    "Secara keseluruhan, jika nilai MAE, MSE, dan RMSE relatif besar, ini menunjukkan bahwa model Anda mungkin belum optimal dalam memprediksi nilai-nilai yang diinginkan. Untuk meningkatkan kinerja model, Anda bisa mencoba pendekatan berbeda dalam pemilihan fitur, algoritma, atau bahkan menyesuaikan parameter model yang digunakan."
   ]
  },
  {
   "cell_type": "code",
   "execution_count": null,
   "metadata": {
    "id": "4NzUWm1ben1r"
   },
   "outputs": [],
   "source": [
    "#visualisasi data training\n",
    "\n",
    "plt.scatter(X_train, Y_train)\n",
    "plt.plot(X_train, lin_reg.predict(X_train), c='red')\n",
    "plt.xlabel('Tahun Bekerja')\n",
    "plt.ylabel('Gaji')\n",
    "plt.title('Prediksi Gaji Berdasarkan tahun bekerja (training set)')"
   ]
  },
  {
   "cell_type": "code",
   "execution_count": null,
   "metadata": {
    "id": "NKwEp4KSepJs"
   },
   "outputs": [],
   "source": [
    "#visualisasi data dari data testing\n",
    "plt.scatter(X_test, Y_test)\n",
    "plt.plot(X_test, Y_prediksi, c='r')\n",
    "plt.xlabel('Tahun Bekerja')\n",
    "plt.ylabel('Gaji')\n",
    "plt.title('Prediksi Gaji Berdasarkan tahun bekerja(testing set)')"
   ]
  },
  {
   "cell_type": "markdown",
   "metadata": {
    "id": "oixcP_Mq_QPS"
   },
   "source": [
    "# Prediction"
   ]
  },
  {
   "cell_type": "code",
   "execution_count": null,
   "metadata": {
    "id": "MX3Kb2SIev98"
   },
   "outputs": [],
   "source": [
    "# mencoba studi kasus, misal kita prediksi gaji seseorang yang telah bekerja selama 2.7, 5.5, 7.5 tahun\n",
    "print('Gaji Seseorang setelah bekerja selama 2.7 tahun adalah',lin_reg.predict([[2.7]]))\n",
    "print('Gaji Seseorang setelah bekerja selama 5.5 tahun adalah',lin_reg.predict([[5.5]]))\n",
    "print('Gaji Seseorang setelah bekerja selama 7.5 tahun adalah',lin_reg.predict([[7.5]]))"
   ]
  },
  {
   "cell_type": "markdown",
   "metadata": {},
   "source": [
    "## 📦 6. Deployment\n",
    "\n",
    "Dalam proyek nyata, model ini bisa disimpan dan digunakan dalam aplikasi berbasis web menggunakan `pickle`, `Flask`, atau `Streamlit`."
   ]
  },
  {
   "cell_type": "code",
   "execution_count": 28,
   "metadata": {},
   "outputs": [
    {
     "name": "stdout",
     "output_type": "stream",
     "text": [
      "Defaulting to user installation because normal site-packages is not writeable\n",
      "Requirement already satisfied: joblib in c:\\programdata\\anaconda3\\lib\\site-packages (1.2.0)\n",
      "Note: you may need to restart the kernel to use updated packages.\n"
     ]
    }
   ],
   "source": [
    "pip install joblib"
   ]
  },
  {
   "cell_type": "code",
   "execution_count": 31,
   "metadata": {},
   "outputs": [],
   "source": [
    "import joblib"
   ]
  },
  {
   "cell_type": "code",
   "execution_count": 33,
   "metadata": {},
   "outputs": [
    {
     "data": {
      "text/plain": [
       "['lin_reg_model.joblib']"
      ]
     },
     "execution_count": 33,
     "metadata": {},
     "output_type": "execute_result"
    }
   ],
   "source": [
    "joblib.dump(lin_reg, 'lin_reg_model.joblib')"
   ]
  },
  {
   "cell_type": "code",
   "execution_count": null,
   "metadata": {},
   "outputs": [],
   "source": []
  }
 ],
 "metadata": {
  "colab": {
   "collapsed_sections": [],
   "name": "Materi Pertemuan 9- Regresi linear Sederhana",
   "provenance": []
  },
  "kernelspec": {
   "display_name": "Python 3 (ipykernel)",
   "language": "python",
   "name": "python3"
  },
  "language_info": {
   "codemirror_mode": {
    "name": "ipython",
    "version": 3
   },
   "file_extension": ".py",
   "mimetype": "text/x-python",
   "name": "python",
   "nbconvert_exporter": "python",
   "pygments_lexer": "ipython3",
   "version": "3.11.7"
  }
 },
 "nbformat": 4,
 "nbformat_minor": 4
}
